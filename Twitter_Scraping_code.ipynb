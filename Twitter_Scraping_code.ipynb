{
  "nbformat": 4,
  "nbformat_minor": 0,
  "metadata": {
    "kernelspec": {
      "display_name": "Python 3",
      "language": "python",
      "name": "python3"
    },
    "language_info": {
      "codemirror_mode": {
        "name": "ipython",
        "version": 3
      },
      "file_extension": ".py",
      "mimetype": "text/x-python",
      "name": "python",
      "nbconvert_exporter": "python",
      "pygments_lexer": "ipython3",
      "version": "3.8.3"
    },
    "colab": {
      "name": "Twitter Scraping code.ipynb",
      "provenance": [],
      "collapsed_sections": []
    }
  },
  "cells": [
    {
      "cell_type": "code",
      "metadata": {
        "id": "xxdWHrSorOMt"
      },
      "source": [
        "pip install tweepy"
      ],
      "execution_count": null,
      "outputs": []
    },
    {
      "cell_type": "code",
      "metadata": {
        "id": "UhhjAwBirOMv"
      },
      "source": [
        "pip install textblob"
      ],
      "execution_count": null,
      "outputs": []
    },
    {
      "cell_type": "code",
      "metadata": {
        "id": "PXvsB7nXrOMw"
      },
      "source": [
        "pip install preprocessor"
      ],
      "execution_count": null,
      "outputs": []
    },
    {
      "cell_type": "code",
      "metadata": {
        "id": "elvufmhsrOMw"
      },
      "source": [
        ""
      ],
      "execution_count": null,
      "outputs": []
    },
    {
      "cell_type": "markdown",
      "metadata": {
        "id": "afvxvCvbOTCu"
      },
      "source": [
        "# Generating dataset"
      ]
    },
    {
      "cell_type": "code",
      "metadata": {
        "id": "A5P5M1_JU__h"
      },
      "source": [
        "!pip install tweepy"
      ],
      "execution_count": null,
      "outputs": []
    },
    {
      "cell_type": "code",
      "metadata": {
        "id": "8WIwgItYOW8Q"
      },
      "source": [
        "import tweepy\r\n",
        "import csv\r\n",
        "import pandas as pd\r\n",
        "####input your credentials here\r\n",
        "consumer_key = ''\r\n",
        "consumer_secret = ''\r\n",
        "access_token = ''\r\n",
        "access_token_secret = ''\r\n",
        "\r\n",
        "\r\n",
        "auth = tweepy.OAuthHandler(consumer_key, consumer_secret)\r\n",
        "auth.set_access_token(access_token, access_token_secret)\r\n",
        "api = tweepy.API(auth,wait_on_rate_limit=True)"
      ],
      "execution_count": null,
      "outputs": []
    },
    {
      "cell_type": "code",
      "metadata": {
        "id": "gvzMwLAgrOM2"
      },
      "source": [
        "search_words = \"#kenya\"\n",
        "date_since = \"2020-01-01\"\n",
        "\n",
        "tweets = tweepy.Cursor(api.search,\n",
        "                       q=search_words,\n",
        "                       lang=\"en\",\n",
        "                       since=date_since).items(5)\n",
        "new_search = search_words + \" -filter:retweets\"\n",
        "new_search\n",
        "\n",
        "[tweet.text for tweet in tweets]\n",
        "\n",
        "tweets = tweepy.Cursor(api.search, \n",
        "                           q=new_search,\n",
        "                           lang=\"en\",\n",
        "                           since=date_since, tweet_mode= 'extended').items(5)\n",
        "\n",
        "users_locs = [[tweet.user.screen_name,\n",
        "               tweet.full_text,\n",
        "               tweet.user.location,\n",
        "               tweet.user.description,\n",
        "               tweet.user.friends_count,\n",
        "               tweet.user.followers_count,\n",
        "               tweet.user.statuses_count,\n",
        "               tweet.user.created_at,\n",
        "               tweet.retweet_count, \n",
        "               tweet.entities['hashtags']] for tweet in tweets]\n",
        "users_locs\n",
        "\n",
        "tweet_text = pd.DataFrame(data=users_locs, \n",
        "                    columns=['user', 'tweet',\"location\", 'description','friends_count','followers_count', \n",
        "                             'statuses_count', 'created_at', 'retweet_count', 'hashtags'])\n",
        "tweet_text"
      ],
      "execution_count": null,
      "outputs": []
    },
    {
      "cell_type": "code",
      "metadata": {
        "id": "JdUzeMJrrOM2",
        "colab": {
          "base_uri": "https://localhost:8080/"
        },
        "outputId": "189db8f5-89f4-44d9-d304-974c9f0fb32c"
      },
      "source": [
        "print(tweet_text.shape)"
      ],
      "execution_count": null,
      "outputs": [
        {
          "output_type": "stream",
          "text": [
            "(5, 10)\n"
          ],
          "name": "stdout"
        }
      ]
    },
    {
      "cell_type": "code",
      "metadata": {
        "id": "iZo6cKb5rOM3"
      },
      "source": [
        ""
      ],
      "execution_count": null,
      "outputs": []
    },
    {
      "cell_type": "code",
      "metadata": {
        "id": "8fgNStucX75e"
      },
      "source": [
        "#To access the Twitter API, you will need 4 things from the your Twitter App page. \r\n",
        "#These keys are located in your Twitter app settings in the Keys and Access Tokens tab.\r\n",
        "\r\n",
        "#consumer key\r\n",
        "#consumer seceret key\r\n",
        "#access token key\r\n",
        "#access token secret key\r\n",
        "#Do not share these with anyone else because these values are specific to your app.\r\n",
        "\r\n",
        "import tweepy\r\n",
        "import csv\r\n",
        "import pandas as pd\r\n",
        "####input your credentials here\r\n",
        "consumer_key = ''\r\n",
        "consumer_secret = ''\r\n",
        "access_token = '-'\r\n",
        "access_token_secret = ''\r\n",
        "\r\n",
        "\r\n",
        "auth = tweepy.OAuthHandler(consumer_key, consumer_secret)\r\n",
        "auth.set_access_token(access_token, access_token_secret)\r\n",
        "api = tweepy.API(auth,wait_on_rate_limit=True)"
      ],
      "execution_count": null,
      "outputs": []
    },
    {
      "cell_type": "code",
      "metadata": {
        "id": "AcEQX6RIX75f"
      },
      "source": [
        "search_words = \"#KenyaInanitosha\"\n",
        "date_since = \"2020-01-01\"\n",
        "\n",
        "# use the .Cursor method to get an object containing tweets containing the hashtag\n",
        "#use .Cursor() to search twitter for tweets containing the search term.\n",
        "#You can restrict the number of tweets returned by specifying a number in the .items() method.\n",
        "\n",
        "tweets = tweepy.Cursor(api.search,\n",
        "                       q=search_words,\n",
        "                       lang=\"en\",\n",
        "                       since=date_since).items(1000)\n",
        "\n",
        "[tweet.text for tweet in tweets]\n",
        "\n",
        "#Sometimes you may want to remove retweets as they contain duplicate content \n",
        "#that might skew your analysis if you are only looking at word frequency\n",
        "#below you ignore all retweets by adding -filter:retweets to your query\n",
        "\n",
        "new_search = search_words + \" -filter:retweets\"\n",
        "new_search\n",
        "\n",
        "tweets = tweepy.Cursor(api.search, \n",
        "                           q=new_search,\n",
        "                           lang=\"en\",\n",
        "                           since=date_since, tweet_mode= 'extended').items(1000)\n",
        "\n",
        "users_locs = [[tweet.user.screen_name,\n",
        "               tweet.full_text,\n",
        "               tweet.user.location,\n",
        "               tweet.user.description,\n",
        "               tweet.user.friends_count,\n",
        "               tweet.user.followers_count,\n",
        "               tweet.user.statuses_count,\n",
        "               tweet.created_at,\n",
        "               tweet.retweet_count,\n",
        "               tweet.favorite_count, \n",
        "               tweet.entities['hashtags']] for tweet in tweets]\n",
        "users_locs\n",
        "kenya_tosha = pd.DataFrame(data=users_locs, \n",
        "                    columns=['user', 'tweet',\"location\", 'description','friends_count','followers_count', \n",
        "                             'statuses_count', 'tweet_date', 'retweet_count','likes', 'hashtags'])\n",
        "kenya_tosha"
      ],
      "execution_count": null,
      "outputs": []
    },
    {
      "cell_type": "code",
      "metadata": {
        "colab": {
          "base_uri": "https://localhost:8080/"
        },
        "id": "6u8GtuCsX75g",
        "outputId": "937ed639-103d-4996-d345-f8d6eb6a6c4f"
      },
      "source": [
        "print(kenya_tosha.shape)"
      ],
      "execution_count": null,
      "outputs": [
        {
          "output_type": "stream",
          "text": [
            "(18, 11)\n"
          ],
          "name": "stdout"
        }
      ]
    },
    {
      "cell_type": "markdown",
      "metadata": {
        "id": "cJv8l587zsKk"
      },
      "source": [
        "# Health dataset"
      ]
    },
    {
      "cell_type": "code",
      "metadata": {
        "id": "XhCFP17KzsLJ"
      },
      "source": [
        "search_words = \"@MOH_Kenya\"\n",
        "date_since = \"2020-01-01\"\n",
        "\n",
        "# use the .Cursor method to get an object containing tweets containing the hashtag\n",
        "#use .Cursor() to search twitter for tweets containing the search term.\n",
        "#You can restrict the number of tweets returned by specifying a number in the .items() method.\n",
        "\n",
        "tweets = tweepy.Cursor(api.search,\n",
        "                       q=search_words,\n",
        "                       lang=\"en\",\n",
        "                       since=date_since).items(1000)\n",
        "\n",
        "[tweet.text for tweet in tweets]\n",
        "\n",
        "#Sometimes you may want to remove retweets as they contain duplicate content \n",
        "#that might skew your analysis if you are only looking at word frequency\n",
        "#below you ignore all retweets by adding -filter:retweets to your query\n",
        "\n",
        "new_search = search_words + \" -filter:retweets\"\n",
        "new_search\n",
        "\n",
        "tweets = tweepy.Cursor(api.search, \n",
        "                           q=new_search,\n",
        "                           lang=\"en\",\n",
        "                           since=date_since, tweet_mode= 'extended').items(1000)\n",
        "\n",
        "users_locs = [[tweet.user.screen_name,\n",
        "               tweet.full_text,\n",
        "               tweet.user.location,\n",
        "               tweet.user.description,\n",
        "               tweet.user.friends_count,\n",
        "               tweet.user.followers_count,\n",
        "               tweet.user.statuses_count,\n",
        "               tweet.created_at,\n",
        "               tweet.retweet_count,\n",
        "               tweet.favorite_count, \n",
        "               tweet.entities['hashtags']] for tweet in tweets]\n",
        "users_locs\n",
        "health = pd.DataFrame(data=users_locs, \n",
        "                    columns=['user', 'tweet',\"location\", 'description','friends_count','followers_count', \n",
        "                             'statuses_count', 'tweet_date', 'retweet_count','likes', 'hashtags'])\n",
        "health"
      ],
      "execution_count": null,
      "outputs": []
    },
    {
      "cell_type": "code",
      "metadata": {
        "id": "8Nm03BUkzsLL"
      },
      "source": [
        "print(health.tweet[14])"
      ],
      "execution_count": null,
      "outputs": []
    },
    {
      "cell_type": "code",
      "metadata": {
        "id": "AEwMdhdTzsLO"
      },
      "source": [
        "search_words = \"#Kenya\"\r\n",
        "date_since = \"2020-01-01\"\r\n",
        "#geoc=\"0.1768696, 37.9083264, 500km\"geocode=geoc\r\n",
        "# use the .Cursor method to get an object containing tweets containing the hashtag\r\n",
        "#use .Cursor() to search twitter for tweets containing the search term.\r\n",
        "#You can restrict the number of tweets returned by specifying a number in the .items() method.\r\n",
        "\r\n",
        "tweets = tweepy.Cursor(api.search,\r\n",
        "                       q=search_words,\r\n",
        "                       lang=\"en\",place_id='Kenya',\r\n",
        "                       since=date_since\r\n",
        "                       ).items(1000)\r\n",
        "\r\n",
        "[tweet.text for tweet in tweets]\r\n",
        "\r\n",
        "#Sometimes you may want to remove retweets as they contain duplicate content \r\n",
        "#that might skew your analysis if you are only looking at word frequency\r\n",
        "#below you ignore all retweets by adding -filter:retweets to your query\r\n",
        "\r\n",
        "new_search = search_words + \" -filter:retweets\"\r\n",
        "new_search\r\n",
        "\r\n",
        "tweets = tweepy.Cursor(api.search, \r\n",
        "                           q=new_search,\r\n",
        "                           lang=\"en\",place_id='Kenya',\r\n",
        "                           since=date_since, tweet_mode= 'extended').items(1000)\r\n",
        "\r\n",
        "users_locs = [[tweet.user.screen_name,\r\n",
        "               tweet.full_text,\r\n",
        "               tweet.user.location,\r\n",
        "               tweet.user.description,\r\n",
        "               tweet.user.friends_count,\r\n",
        "               tweet.user.followers_count,\r\n",
        "               tweet.user.statuses_count,\r\n",
        "               tweet.created_at,\r\n",
        "               tweet.retweet_count,\r\n",
        "               tweet.favorite_count, \r\n",
        "               tweet.entities['hashtags']] for tweet in tweets]\r\n",
        "users_locs\r\n",
        "b = pd.DataFrame(data=users_locs, \r\n",
        "                    columns=['user', 'tweet',\"location\", 'description','friends_count','followers_count', \r\n",
        "                             'statuses_count', 'tweet_date', 'retweet_count','likes', 'hashtags'])\r\n",
        "b"
      ],
      "execution_count": null,
      "outputs": []
    },
    {
      "cell_type": "code",
      "metadata": {
        "id": "t7_vYZveLSnJ"
      },
      "source": [
        "search_words = \"#SwitchOffKPLC\"\n",
        "date_since = \"2020-01-01\"\n",
        "\n",
        "# use the .Cursor method to get an object containing tweets containing the hashtag\n",
        "#use .Cursor() to search twitter for tweets containing the search term.\n",
        "#You can restrict the number of tweets returned by specifying a number in the .items() method.\n",
        "\n",
        "tweets = tweepy.Cursor(api.search,\n",
        "                       q=search_words,\n",
        "                       lang=\"en\",\n",
        "                       since=date_since).items(1000)\n",
        "\n",
        "[tweet.text for tweet in tweets]\n",
        "\n",
        "#Sometimes you may want to remove retweets as they contain duplicate content \n",
        "#that might skew your analysis if you are only looking at word frequency\n",
        "#below you ignore all retweets by adding -filter:retweets to your query\n",
        "\n",
        "new_search = search_words + \" -filter:retweets\"\n",
        "new_search\n",
        "\n",
        "tweets = tweepy.Cursor(api.search, \n",
        "                           q=new_search,\n",
        "                           lang=\"en\",\n",
        "                           since=date_since, tweet_mode= 'extended').items(1000)\n",
        "\n",
        "users_locs = [[tweet.user.screen_name,\n",
        "               tweet.full_text,\n",
        "               tweet.user.location,\n",
        "               tweet.user.description,\n",
        "               tweet.user.friends_count,\n",
        "               tweet.user.followers_count,\n",
        "               tweet.user.statuses_count,\n",
        "               tweet.created_at,\n",
        "               tweet.retweet_count,\n",
        "               tweet.favorite_count, \n",
        "               tweet.entities['hashtags']] for tweet in tweets]\n",
        "users_locs\n",
        "power = pd.DataFrame(data=users_locs, \n",
        "                    columns=['user', 'tweet',\"location\", 'description','friends_count','followers_count', \n",
        "                             'statuses_count', 'tweet_date', 'retweet_count','likes', 'hashtags'])\n",
        "power"
      ],
      "execution_count": null,
      "outputs": []
    },
    {
      "cell_type": "code",
      "metadata": {
        "id": "YT823itpLSnN"
      },
      "source": [
        "print(power.tweet[128])"
      ],
      "execution_count": null,
      "outputs": []
    },
    {
      "cell_type": "code",
      "metadata": {
        "id": "Wt-o7FOvLSnQ"
      },
      "source": [
        "import csv\r\n",
        "import tweepy\r\n",
        "import ssl\r\n",
        "\r\n",
        "ssl._create_default_https_context = ssl._create_unverified_context\r\n",
        "\r\n",
        "# Oauth keys\r\n",
        "consumer_key = ''\r\n",
        "consumer_secret = ''\r\n",
        "access_token = ''\r\n",
        "access_token_secret = ''\r\n",
        "\r\n",
        "# Authentication with Twitter\r\n",
        "auth = tweepy.OAuthHandler(consumer_key, consumer_secret)\r\n",
        "auth.set_access_token(access_token, access_token_secret)\r\n",
        "api = tweepy.API(auth)\r\n",
        "\r\n",
        "username = 'MOH_Kenya'\r\n",
        "\r\n",
        "tweets = tweepy.Cursor(api.user_timeline, screen_name=username).items()\r\n",
        "tweets_list = [[tweet.created_at,\r\n",
        "                tweet.id, \r\n",
        "                tweet.text,\r\n",
        "                tweet.retweet_count,\r\n",
        "                tweet.favorite_count,\r\n",
        "                tweet.in_reply_to_status_id_str,\r\n",
        "                tweet.in_reply_to_screen_name, \r\n",
        "                tweet.in_reply_to_user_id_str, \r\n",
        "                tweet.user.id] for tweet in tweets] "
      ],
      "execution_count": null,
      "outputs": []
    },
    {
      "cell_type": "code",
      "metadata": {
        "id": "rGoQJFtrX7Fp"
      },
      "source": [
        "a = pd.DataFrame(data=tweets_list, \r\n",
        "                    columns=['created', \r\n",
        "                             'id', \r\n",
        "                             'tweet',\r\n",
        "                             'retweet_count',\r\n",
        "                             'likes',\r\n",
        "                             'in_reply_to_status_id_str', \r\n",
        "                             'in_reply_to_screen_name', \r\n",
        "                             'in_reply_to_user_id_str', \r\n",
        "                             'user.id'])\r\n",
        "a"
      ],
      "execution_count": null,
      "outputs": []
    },
    {
      "cell_type": "code",
      "metadata": {
        "id": "E1RJhQHXxY79"
      },
      "source": [
        "import tweepy\r\n",
        "import pandas as pd\r\n",
        "from tweepy import OAuthHandler\r\n",
        "import os\r\n",
        "\r\n",
        "############################################################################################\r\n",
        "consumer_key = ''\r\n",
        "consumer_secret = ''\r\n",
        "access_key = '-'\r\n",
        "access_secret = ''\r\n",
        "\r\n",
        "csvfile = \"Data.csv\" # Change this to output into different files\r\n",
        "filters = ['location','Kenya','Nairobi'] \r\n",
        "SearchTokens = ['Health','Nursestrike','afya','hospital']\r\n",
        "\r\n",
        "#############################################################################################\r\n",
        "\r\n",
        "auth = OAuthHandler(consumer_key, consumer_secret)\r\n",
        "auth.set_access_token(access_token, access_secret)\r\n",
        "\r\n",
        "api = tweepy.API(auth)\r\n",
        "\r\n",
        "# Attributes of a twitter user profile (this header is already in my file)\r\n",
        "twitter_datafile_attr = ['follow_request_sent', 'profile_use_background_image',       'contributors_enabled', 'id', 'verified', \r\n",
        "                       'profile_image_url_https', 'profile_sidebar_fill_color', 'profile_text_color', 'followers_count', \r\n",
        "                       'profile_sidebar_border_color', 'id_str', 'default_profile_image', 'listed_count' 'is_translation_enabled', \r\n",
        "                       'utc_offset', 'statuses_count', 'description', 'friends_count', 'location', 'profile_link_color', \r\n",
        "                       'profile_image_url', 'notifications', 'geo_enabled', 'profile_background_color', 'profile_banner_url', \r\n",
        "                       'profile_background_image_url', \r\n",
        "                       'screen_name', 'lang', 'following', 'profile_background_tile', 'favourites_count', 'name', 'url', 'created_at', \r\n",
        "                       'profile_background_image_url_https', 'time_zone', 'protected', 'default_profile', 'is_translator']\r\n",
        "class bot:\r\n",
        "    def __init__(self,path):\r\n",
        "        self.path = path\r\n",
        "        if os.path.exists(path):\r\n",
        "            self.df=pd.read_csv(path)\r\n",
        "        else:\r\n",
        "            self.df = pd.DataFrame(columns=['ID', 'Name', 'Twitter Handle', 'Twitter Page', 'Website', 'Bio', 'Num of following', 'Num of followers'])\r\n",
        "\r\n",
        "    def newDBrow(self,ID,name,username,twitterLink,website,bio,following,followers):\r\n",
        "        if not ID in self.df['ID'].values:\r\n",
        "            new_row = pd.DataFrame([[ID,name,username,twitterLink,website,bio,following,followers]],columns=self.df.columns )\r\n",
        "            self.df = self.df.append(new_row, ignore_index=True)\r\n",
        "    \r\n",
        "    def process_page(self,page,filters):\r\n",
        "        for user in page:\r\n",
        "            if filters[0]=='location':\r\n",
        "                if user.location in filters[1:]:\r\n",
        "                    self.newDBrow(user.id,user.name,user.screen_name,'https://twitter.com/'+user.screen_name,user.url,user.description,user.friends_count,user.followers_count)\r\n",
        "        self.df.to_csv(self.path, index=False)\r\n",
        "        \r\n",
        "    def search_query(self,SearchTokens,num_of_pages,filters=['']):\r\n",
        "        for Token in SearchTokens:\r\n",
        "            for page in tweepy.Cursor(api.search_users, q=Token, count=100, tweet_mode='extended').pages(num_of_pages):\r\n",
        "                self.process_page(page,filters)\r\n",
        "    \r\n",
        "    \r\n",
        "max_pages = 51\r\n",
        "twitbot = bot(csvfile)\r\n",
        "twitbot.search_query(SearchTokens,max_pages,filters=filters)\r\n",
        "print(twitbot.df)"
      ],
      "execution_count": null,
      "outputs": []
    },
    {
      "cell_type": "code",
      "metadata": {
        "id": "PYJERo8xhi0j"
      },
      "source": [
        "search_words = \"health\"\r\n",
        "date_since = \"2020-01-01\"\r\n",
        "geoc=\"-1.28333,36.81667,300km\"\r\n",
        "# use the .Cursor method to get an object containing tweets containing the hashtag\r\n",
        "#use .Cursor() to search twitter for tweets containing the search term.\r\n",
        "#You can restrict the number of tweets returned by specifying a number in the .items() method.\r\n",
        "\r\n",
        "tweets = tweepy.Cursor(api.search,\r\n",
        "                       q=search_words,\r\n",
        "                       lang=\"en\",\r\n",
        "                       since=date_since, \r\n",
        "                       geocode=geoc).items(1000)\r\n",
        "\r\n",
        "[tweet.text for tweet in tweets]\r\n",
        "\r\n",
        "#Sometimes you may want to remove retweets as they contain duplicate content \r\n",
        "#that might skew your analysis if you are only looking at word frequency\r\n",
        "#below you ignore all retweets by adding -filter:retweets to your query\r\n",
        "\r\n",
        "new_search = search_words + \" -filter:retweets\"\r\n",
        "new_search\r\n",
        "\r\n",
        "tweets = tweepy.Cursor(api.search, \r\n",
        "                           q=new_search,\r\n",
        "                           lang=\"en\",\r\n",
        "                           since=date_since, geocode=geoc,\r\n",
        "                           tweet_mode= 'extended').items(1000)\r\n",
        "\r\n",
        "\r\n",
        "users_locs = [[tweet.user.screen_name,\r\n",
        "               tweet.full_text,\r\n",
        "               tweet.user.location,\r\n",
        "               tweet.user.description,\r\n",
        "               tweet.user.friends_count,\r\n",
        "               tweet.user.followers_count,\r\n",
        "               tweet.user.statuses_count,\r\n",
        "               tweet.created_at,\r\n",
        "               tweet.retweet_count,\r\n",
        "               tweet.favorite_count, \r\n",
        "               tweet.entities['hashtags']] for tweet in tweets]\r\n",
        "users_locs\r\n",
        "power = pd.DataFrame(data=users_locs, \r\n",
        "                    columns=['user', 'tweet',\"location\", 'description','friends_count','followers_count', \r\n",
        "                             'statuses_count', 'tweet_date', 'retweet_count','likes', 'hashtags'])\r\n",
        "power"
      ],
      "execution_count": null,
      "outputs": []
    },
    {
      "cell_type": "code",
      "metadata": {
        "id": "hWFdX-uo4cwL"
      },
      "source": [
        "power.location.unique()"
      ],
      "execution_count": null,
      "outputs": []
    },
    {
      "cell_type": "code",
      "metadata": {
        "id": "BlMkimV14fch"
      },
      "source": [
        "power.tweet[23]"
      ],
      "execution_count": null,
      "outputs": []
    },
    {
      "cell_type": "code",
      "metadata": {
        "id": "Q6fQ0Ptf7vEe"
      },
      "source": [
        "search_words = \"health OR Afya OR doctor OR nurse OR hospital\"\r\n",
        "date_since = \"2020-01-01\"\r\n",
        "geoc=\"-1.28333,36.81667,300km\"\r\n",
        "\r\n",
        "# use the .Cursor method to get an object containing tweets containing the hashtag\r\n",
        "#use .Cursor() to search twitter for tweets containing the search term.\r\n",
        "#You can restrict the number of tweets returned by specifying a number in the .items() method.\r\n",
        "\r\n",
        "tweets = tweepy.Cursor(api.search,\r\n",
        "                       q=search_words,\r\n",
        "                       lang=\"en\",\r\n",
        "                       since=date_since, \r\n",
        "                       geocode=geoc).items(1000)\r\n",
        "\r\n",
        "[tweet.text for tweet in tweets]\r\n",
        "\r\n",
        "#Sometimes you may want to remove retweets as they contain duplicate content \r\n",
        "#that might skew your analysis if you are only looking at word frequency\r\n",
        "#below you ignore all retweets by adding -filter:retweets to your query\r\n",
        "\r\n",
        "new_search = search_words + \" -filter:retweets\" + \" -filter:links\"\r\n",
        "new_search\r\n",
        "\r\n",
        "tweets = tweepy.Cursor(api.search, \r\n",
        "                           q=new_search,\r\n",
        "                           lang=\"en\",\r\n",
        "                           since=date_since, geocode=geoc,\r\n",
        "                           tweet_mode= 'extended').items(1000)\r\n",
        "\r\n",
        "\r\n",
        "users_locs = [[tweet.user.screen_name,\r\n",
        "               tweet.full_text,\r\n",
        "               tweet.user.location,\r\n",
        "               tweet.user.description,\r\n",
        "               tweet.user.friends_count,\r\n",
        "               tweet.user.followers_count,\r\n",
        "               tweet.user.statuses_count,\r\n",
        "               tweet.created_at,\r\n",
        "               tweet.retweet_count,\r\n",
        "               tweet.favorite_count, \r\n",
        "               tweet.entities['hashtags']] for tweet in tweets]\r\n",
        "users_locs\r\n",
        "afya = pd.DataFrame(data=users_locs, \r\n",
        "                    columns=['user', 'tweet',\"location\", 'description','friends_count','followers_count', \r\n",
        "                             'statuses_count', 'tweet_date', 'retweet_count','likes', 'hashtags'])\r\n",
        "afya"
      ],
      "execution_count": null,
      "outputs": []
    },
    {
      "cell_type": "code",
      "metadata": {
        "id": "GINrz6lOCOy2"
      },
      "source": [
        "afya.tweet[10]"
      ],
      "execution_count": null,
      "outputs": []
    },
    {
      "cell_type": "code",
      "metadata": {
        "id": "8eRGB-DCCO1h"
      },
      "source": [
        "# let us export our final dataframe to csv\r\n",
        "afya.to_csv('afya.csv')"
      ],
      "execution_count": null,
      "outputs": []
    },
    {
      "cell_type": "markdown",
      "metadata": {
        "id": "6KNJqTrwb0zw"
      },
      "source": [
        "# Working code For Health Dataset"
      ]
    },
    {
      "cell_type": "code",
      "metadata": {
        "id": "l2cTW6MlCO4E"
      },
      "source": [
        "search_words = \"health OR Afya OR doctor OR nurse OR hospital\"\r\n",
        "date_since = \"2020-01-01\"\r\n",
        "geoc=\"-1.28333,36.81667,300km\"\r\n",
        "\r\n",
        "# use the .Cursor method to get an object containing tweets containing the hashtag\r\n",
        "#use .Cursor() to search twitter for tweets containing the search term.\r\n",
        "#You can restrict the number of tweets returned by specifying a number in the .items() method.\r\n",
        "\r\n",
        "tweets = tweepy.Cursor(api.search,\r\n",
        "                       q=search_words,\r\n",
        "                       lang=\"en\",\r\n",
        "                       since=date_since, \r\n",
        "                       geocode=geoc).items(1000)\r\n",
        "\r\n",
        "[tweet.text for tweet in tweets]\r\n",
        "\r\n",
        "#Sometimes you may want to remove retweets as they contain duplicate content \r\n",
        "#that might skew your analysis if you are only looking at word frequency\r\n",
        "#below you ignore all retweets by adding -filter:retweets to your query\r\n",
        "\r\n",
        "new_search = search_words + \" -filter:retweets\" + \" -filter:links\"\r\n",
        "new_search\r\n",
        "\r\n",
        "tweets = tweepy.Cursor(api.search, \r\n",
        "                           q=new_search,\r\n",
        "                           lang=\"en\",\r\n",
        "                           since=date_since, geocode=geoc,\r\n",
        "                           tweet_mode= 'extended').items(1000)\r\n",
        "\r\n",
        "\r\n",
        "users_locs = [[tweet.user.screen_name,\r\n",
        "               tweet.full_text,\r\n",
        "               tweet.user.location,\r\n",
        "               tweet.user.description,\r\n",
        "               tweet.user.friends_count,\r\n",
        "               tweet.user.followers_count,\r\n",
        "               tweet.user.statuses_count,\r\n",
        "               tweet.created_at,\r\n",
        "               tweet.retweet_count,\r\n",
        "               tweet.favorite_count, \r\n",
        "               tweet.entities['hashtags']] for tweet in tweets]\r\n",
        "users_locs\r\n",
        "afya1 = pd.DataFrame(data=users_locs, \r\n",
        "                    columns=['user', 'tweet',\"location\", 'description','friends_count','followers_count', \r\n",
        "                             'statuses_count', 'tweet_date', 'retweet_count','likes', 'hashtags'])\r\n",
        "afya1"
      ],
      "execution_count": null,
      "outputs": []
    },
    {
      "cell_type": "code",
      "metadata": {
        "id": "RWIe-StwCO7O"
      },
      "source": [
        "# let us export our final dataframe to csv\r\n",
        "afya1.to_csv('afya1.csv')"
      ],
      "execution_count": null,
      "outputs": []
    },
    {
      "cell_type": "code",
      "metadata": {
        "id": "APNn9EzDCO8-"
      },
      "source": [
        "search_words = \"Health Insurance OR health services OR NHIF OR hospital OR #StrikingDoctors OR #nhiffraud OR #WeStandWithOurDoctors\"\r\n",
        "date_since = \"2018-01-01\"\r\n",
        "geoc=\"-1.28333,36.81667,300km\"\r\n",
        "\r\n",
        "# use the .Cursor method to get an object containing tweets containing the hashtag\r\n",
        "#use .Cursor() to search twitter for tweets containing the search term.\r\n",
        "#You can restrict the number of tweets returned by specifying a number in the .items() method.\r\n",
        "\r\n",
        "tweets = tweepy.Cursor(api.search,\r\n",
        "                       q=search_words,\r\n",
        "                       lang=\"en\",\r\n",
        "                       since=date_since, \r\n",
        "                       geocode=geoc).items()\r\n",
        "\r\n",
        "[tweet.text for tweet in tweets]\r\n",
        "\r\n",
        "#Sometimes you may want to remove retweets as they contain duplicate content \r\n",
        "#that might skew your analysis if you are only looking at word frequency\r\n",
        "#below you ignore all retweets by adding -filter:retweets to your query\r\n",
        "\r\n",
        "new_search = search_words + \" -filter:retweets\" + \" -filter:links\"\r\n",
        "new_search\r\n",
        "\r\n",
        "tweets = tweepy.Cursor(api.search, \r\n",
        "                           q=new_search,\r\n",
        "                           lang=\"en\",\r\n",
        "                           since=date_since, geocode=geoc,\r\n",
        "                           tweet_mode= 'extended').items()\r\n",
        "\r\n",
        "\r\n",
        "users_locs = [[tweet.user.screen_name,\r\n",
        "               tweet.full_text,\r\n",
        "               tweet.user.location,\r\n",
        "               tweet.user.description,\r\n",
        "               tweet.user.friends_count,\r\n",
        "               tweet.user.followers_count,\r\n",
        "               tweet.user.statuses_count,\r\n",
        "               tweet.created_at,\r\n",
        "               tweet.retweet_count,\r\n",
        "               tweet.favorite_count, \r\n",
        "               tweet.entities['hashtags']] for tweet in tweets]\r\n",
        "users_locs\r\n",
        "afya2 = pd.DataFrame(data=users_locs, \r\n",
        "                    columns=['user', 'tweet',\"location\", 'description','friends_count','followers_count', \r\n",
        "                             'statuses_count', 'tweet_date', 'retweet_count','likes', 'hashtags'])\r\n",
        "afya2"
      ],
      "execution_count": null,
      "outputs": []
    },
    {
      "cell_type": "code",
      "metadata": {
        "id": "IOYab4adzoFi"
      },
      "source": [
        "afya2.tweet[5]"
      ],
      "execution_count": null,
      "outputs": []
    },
    {
      "cell_type": "code",
      "metadata": {
        "id": "xuLnIARp6DXe"
      },
      "source": [
        "search_words = \"Health Insurance OR hospital OR health care OR health services\"\r\n",
        "#health services OR NHIF OR health system OR hospital supplies OR\r\n",
        "date_since = \"2018-01-01\"\r\n",
        "geoc=\"-1.28333,36.81667,300km\"\r\n",
        "\r\n",
        "# use the .Cursor method to get an object containing tweets containing the hashtag\r\n",
        "#use .Cursor() to search twitter for tweets containing the search term.\r\n",
        "#You can restrict the number of tweets returned by specifying a number in the .items() method.\r\n",
        "\r\n",
        "tweets = tweepy.Cursor(api.search,\r\n",
        "                       q=search_words,\r\n",
        "                       lang=\"en\",\r\n",
        "                       since=date_since, \r\n",
        "                       geocode=geoc).items()\r\n",
        "\r\n",
        "[tweet.text for tweet in tweets]\r\n",
        "\r\n",
        "#Sometimes you may want to remove retweets as they contain duplicate content \r\n",
        "#that might skew your analysis if you are only looking at word frequency\r\n",
        "#below you ignore all retweets by adding -filter:retweets to your query\r\n",
        "\r\n",
        "new_search = search_words + \" -filter:retweets\" + \" -filter:links\"\r\n",
        "new_search\r\n",
        "\r\n",
        "tweets = tweepy.Cursor(api.search, \r\n",
        "                           q=new_search,\r\n",
        "                           lang=\"en\",\r\n",
        "                           since=date_since, geocode=geoc,\r\n",
        "                           tweet_mode= 'extended').items()\r\n",
        "\r\n",
        "\r\n",
        "users_locs = [[tweet.user.screen_name,\r\n",
        "               tweet.full_text,\r\n",
        "               tweet.user.location,\r\n",
        "               tweet.user.description,\r\n",
        "               tweet.user.friends_count,\r\n",
        "               tweet.user.followers_count,\r\n",
        "               tweet.user.statuses_count,\r\n",
        "               tweet.created_at,\r\n",
        "               tweet.retweet_count,\r\n",
        "               tweet.favorite_count, \r\n",
        "               tweet.entities['hashtags']] for tweet in tweets]\r\n",
        "users_locs\r\n",
        "afya3 = pd.DataFrame(data=users_locs, \r\n",
        "                    columns=['user', 'tweet',\"location\", 'description','friends_count','followers_count', \r\n",
        "                             'statuses_count', 'tweet_date', 'retweet_count','likes', 'hashtags'])\r\n",
        "afya3"
      ],
      "execution_count": null,
      "outputs": []
    },
    {
      "cell_type": "code",
      "metadata": {
        "id": "tWImLcC9-xgs"
      },
      "source": [
        "import tweepy\r\n",
        "import pandas as pd\r\n",
        "####input your credentials here\r\n",
        "consumer_key = ''\r\n",
        "consumer_secret = ''\r\n",
        "access_token = '-'\r\n",
        "access_token_secret = ''\r\n",
        "\r\n",
        "auth = tweepy.OAuthHandler(consumer_key, consumer_secret)\r\n",
        "auth.set_access_token(access_token, access_token_secret)\r\n",
        "# will notify user on ratelimit and will wait by it self no need of sleep.\r\n",
        "api = tweepy.API(auth, wait_on_rate_limit=True, wait_on_rate_limit_notify=True)\r\n",
        "\r\n",
        "\r\n",
        "search_words = \"hospital\"\r\n",
        "date_since = \"2018-01-01\"\r\n",
        "geoc=\"-1.28333,36.81667,300km\"\r\n",
        "\r\n",
        "# use the .Cursor method to get an object containing tweets containing the hashtag\r\n",
        "#use .Cursor() to search twitter for tweets containing the search term.\r\n",
        "#You can restrict the number of tweets returned by specifying a number in the .items() method.\r\n",
        "\r\n",
        "tweets = tweepy.Cursor(api.search,\r\n",
        "                       q=search_words,\r\n",
        "                       lang=\"en\",\r\n",
        "                       since=date_since, \r\n",
        "                       geocode=geoc).items(1000)\r\n",
        "\r\n",
        "[tweet.text for tweet in tweets]\r\n",
        "\r\n",
        "#Sometimes you may want to remove retweets as they contain duplicate content \r\n",
        "#that might skew your analysis if you are only looking at word frequency\r\n",
        "#below you ignore all retweets by adding -filter:retweets to your query\r\n",
        "\r\n",
        "new_search = search_words + \" -filter:retweets\" + \" -filter:links\"\r\n",
        "new_search\r\n",
        "\r\n",
        "tweets = tweepy.Cursor(api.search, \r\n",
        "                           q=new_search,\r\n",
        "                           lang=\"en\",\r\n",
        "                           since=date_since, geocode=geoc,\r\n",
        "                           tweet_mode= 'extended').items(1000)\r\n",
        "\r\n",
        "\r\n",
        "users_locs = [[tweet.user.screen_name,\r\n",
        "               tweet.full_text,\r\n",
        "               tweet.user.location,\r\n",
        "               tweet.user.description,\r\n",
        "               tweet.user.friends_count,\r\n",
        "               tweet.user.followers_count,\r\n",
        "               tweet.user.statuses_count,\r\n",
        "               tweet.created_at,\r\n",
        "               tweet.retweet_count,\r\n",
        "               tweet.favorite_count, \r\n",
        "               tweet.entities['hashtags']] for tweet in tweets]\r\n",
        "users_locs\r\n",
        "hospital = pd.DataFrame(data=users_locs, \r\n",
        "                    columns=['user', 'tweet',\"location\", 'description','friends_count','followers_count', \r\n",
        "                             'statuses_count', 'tweet_date', 'retweet_count','likes', 'hashtags'])\r\n",
        "hospital"
      ],
      "execution_count": null,
      "outputs": []
    },
    {
      "cell_type": "code",
      "metadata": {
        "id": "r3YEqWpImjvV"
      },
      "source": [
        "# let us export our final dataframe to csv\r\n",
        "hospital.to_csv('hosi.csv')"
      ],
      "execution_count": null,
      "outputs": []
    },
    {
      "cell_type": "code",
      "metadata": {
        "id": "1DD95nE9S8xn"
      },
      "source": [
        "auth = tweepy.OAuthHandler(consumer_key, consumer_secret)\r\n",
        "auth.set_access_token(access_token, access_token_secret)\r\n",
        "# will notify user on ratelimit and will wait by it self no need of sleep.\r\n",
        "api = tweepy.API(auth, wait_on_rate_limit=True, wait_on_rate_limit_notify=True)\r\n",
        "\r\n",
        "search_words = \"doctor OR nurse\"\r\n",
        "date_since = \"2018-01-01\"\r\n",
        "geoc=\"-1.28333,36.81667,300km\"\r\n",
        "\r\n",
        "# use the .Cursor method to get an object containing tweets containing the hashtag\r\n",
        "#use .Cursor() to search twitter for tweets containing the search term.\r\n",
        "#You can restrict the number of tweets returned by specifying a number in the .items() method.\r\n",
        "\r\n",
        "tweets = tweepy.Cursor(api.search,\r\n",
        "                       q=search_words,\r\n",
        "                       lang=\"en\",\r\n",
        "                       since=date_since, \r\n",
        "                       geocode=geoc).items(1000)\r\n",
        "\r\n",
        "[tweet.text for tweet in tweets]\r\n",
        "\r\n",
        "#Sometimes you may want to remove retweets as they contain duplicate content \r\n",
        "#that might skew your analysis if you are only looking at word frequency\r\n",
        "#below you ignore all retweets by adding -filter:retweets to your query\r\n",
        "\r\n",
        "new_search = search_words + \" -filter:retweets\" + \" -filter:links\"\r\n",
        "new_search\r\n",
        "\r\n",
        "tweets = tweepy.Cursor(api.search, \r\n",
        "                           q=new_search,\r\n",
        "                           lang=\"en\",\r\n",
        "                           since=date_since, geocode=geoc,\r\n",
        "                           tweet_mode= 'extended').items(1000)\r\n",
        "\r\n",
        "\r\n",
        "users_locs = [[tweet.user.screen_name,\r\n",
        "               tweet.full_text,\r\n",
        "               tweet.user.location,\r\n",
        "               tweet.user.description,\r\n",
        "               tweet.user.friends_count,\r\n",
        "               tweet.user.followers_count,\r\n",
        "               tweet.user.statuses_count,\r\n",
        "               tweet.created_at,\r\n",
        "               tweet.retweet_count,\r\n",
        "               tweet.favorite_count, \r\n",
        "               tweet.entities['hashtags']] for tweet in tweets]\r\n",
        "users_locs\r\n",
        "doctors = pd.DataFrame(data=users_locs, \r\n",
        "                    columns=['user', 'tweet',\"location\", 'description','friends_count','followers_count', \r\n",
        "                             'statuses_count', 'tweet_date', 'retweet_count','likes', 'hashtags'])\r\n",
        "doctors"
      ],
      "execution_count": null,
      "outputs": []
    },
    {
      "cell_type": "code",
      "metadata": {
        "id": "wDnin6a9owIP"
      },
      "source": [
        "# let us export our final dataframe to csv\r\n",
        "doctors.to_csv('doctors1.csv')"
      ],
      "execution_count": null,
      "outputs": []
    },
    {
      "cell_type": "code",
      "metadata": {
        "id": "Ue2cVIjGS80R"
      },
      "source": [
        "auth = tweepy.OAuthHandler(consumer_key, consumer_secret)\r\n",
        "auth.set_access_token(access_token, access_token_secret)\r\n",
        "# will notify user on ratelimit and will wait by it self no need of sleep.\r\n",
        "api = tweepy.API(auth, wait_on_rate_limit=True, wait_on_rate_limit_notify=True)\r\n",
        "\r\n",
        "search_words = \"chemist OR pharmacy OR pharmacies OR medication OR prescription\"\r\n",
        "date_since = \"2018-01-01\"\r\n",
        "geoc=\"-1.28333,36.81667,300km\"\r\n",
        "\r\n",
        "# use the .Cursor method to get an object containing tweets containing the hashtag\r\n",
        "#use .Cursor() to search twitter for tweets containing the search term.\r\n",
        "#You can restrict the number of tweets returned by specifying a number in the .items() method.\r\n",
        "\r\n",
        "tweets = tweepy.Cursor(api.search,\r\n",
        "                       q=search_words,\r\n",
        "                       lang=\"en\",\r\n",
        "                       since=date_since, \r\n",
        "                       geocode=geoc).items(1000)\r\n",
        "\r\n",
        "[tweet.text for tweet in tweets]\r\n",
        "\r\n",
        "#Sometimes you may want to remove retweets as they contain duplicate content \r\n",
        "#that might skew your analysis if you are only looking at word frequency\r\n",
        "#below you ignore all retweets by adding -filter:retweets to your query\r\n",
        "\r\n",
        "new_search = search_words + \" -filter:retweets\" + \" -filter:links\"\r\n",
        "new_search\r\n",
        "\r\n",
        "tweets = tweepy.Cursor(api.search, \r\n",
        "                           q=new_search,\r\n",
        "                           lang=\"en\",\r\n",
        "                           since=date_since, geocode=geoc,\r\n",
        "                           tweet_mode= 'extended').items(1000)\r\n",
        "\r\n",
        "\r\n",
        "users_locs = [[tweet.user.screen_name,\r\n",
        "               tweet.full_text,\r\n",
        "               tweet.user.location,\r\n",
        "               tweet.user.description,\r\n",
        "               tweet.user.friends_count,\r\n",
        "               tweet.user.followers_count,\r\n",
        "               tweet.user.statuses_count,\r\n",
        "               tweet.created_at,\r\n",
        "               tweet.retweet_count,\r\n",
        "               tweet.favorite_count, \r\n",
        "               tweet.entities['hashtags']] for tweet in tweets]\r\n",
        "users_locs\r\n",
        "chemist = pd.DataFrame(data=users_locs, \r\n",
        "                    columns=['user', 'tweet',\"location\", 'description','friends_count','followers_count', \r\n",
        "                             'statuses_count', 'tweet_date', 'retweet_count','likes', 'hashtags'])\r\n",
        "chemist"
      ],
      "execution_count": null,
      "outputs": []
    },
    {
      "cell_type": "code",
      "metadata": {
        "id": "qb2k3EUCzOKD"
      },
      "source": [
        "chemist.tweet[31]"
      ],
      "execution_count": null,
      "outputs": []
    },
    {
      "cell_type": "code",
      "metadata": {
        "id": "-6Urjgzdo7Ye"
      },
      "source": [
        "# let us export our final dataframe to csv\r\n",
        "chemist.to_csv('chemist1.csv')"
      ],
      "execution_count": null,
      "outputs": []
    },
    {
      "cell_type": "code",
      "metadata": {
        "id": "Ll5z7NblS87h"
      },
      "source": [
        "auth = tweepy.OAuthHandler(consumer_key, consumer_secret)\r\n",
        "auth.set_access_token(access_token, access_token_secret)\r\n",
        "# will notify user on ratelimit and will wait by it self no need of sleep.\r\n",
        "api = tweepy.API(auth, wait_on_rate_limit=True, wait_on_rate_limit_notify=True)\r\n",
        "\r\n",
        "search_words = \"medical supplies OR medical equipment\"\r\n",
        "date_since = \"2018-01-01\"\r\n",
        "geoc=\"-1.28333,36.81667,300km\"\r\n",
        "\r\n",
        "# use the .Cursor method to get an object containing tweets containing the hashtag\r\n",
        "#use .Cursor() to search twitter for tweets containing the search term.\r\n",
        "#You can restrict the number of tweets returned by specifying a number in the .items() method.\r\n",
        "\r\n",
        "tweets = tweepy.Cursor(api.search,\r\n",
        "                       q=search_words,\r\n",
        "                       lang=\"en\",\r\n",
        "                       since=date_since, \r\n",
        "                       geocode=geoc).items(1000)\r\n",
        "\r\n",
        "[tweet.text for tweet in tweets]\r\n",
        "\r\n",
        "#Sometimes you may want to remove retweets as they contain duplicate content \r\n",
        "#that might skew your analysis if you are only looking at word frequency\r\n",
        "#below you ignore all retweets by adding -filter:retweets to your query\r\n",
        "\r\n",
        "new_search = search_words + \" -filter:retweets\" + \" -filter:links\"\r\n",
        "new_search\r\n",
        "\r\n",
        "tweets = tweepy.Cursor(api.search, \r\n",
        "                           q=new_search,\r\n",
        "                           lang=\"en\",\r\n",
        "                           since=date_since, geocode=geoc,\r\n",
        "                           tweet_mode= 'extended').items(1000)\r\n",
        "\r\n",
        "\r\n",
        "users_locs = [[tweet.user.screen_name,\r\n",
        "               tweet.full_text,\r\n",
        "               tweet.user.location,\r\n",
        "               tweet.user.description,\r\n",
        "               tweet.user.friends_count,\r\n",
        "               tweet.user.followers_count,\r\n",
        "               tweet.user.statuses_count,\r\n",
        "               tweet.created_at,\r\n",
        "               tweet.retweet_count,\r\n",
        "               tweet.favorite_count, \r\n",
        "               tweet.entities['hashtags']] for tweet in tweets]\r\n",
        "users_locs\r\n",
        "supplies = pd.DataFrame(data=users_locs, \r\n",
        "                    columns=['user', 'tweet',\"location\", 'description','friends_count','followers_count', \r\n",
        "                             'statuses_count', 'tweet_date', 'retweet_count','likes', 'hashtags'])\r\n",
        "supplies"
      ],
      "execution_count": null,
      "outputs": []
    },
    {
      "cell_type": "code",
      "metadata": {
        "id": "ljPwaW5c2sGY"
      },
      "source": [
        "# let us export our final dataframe to csv\r\n",
        "supplies.to_csv('supplies.csv')"
      ],
      "execution_count": null,
      "outputs": []
    },
    {
      "cell_type": "code",
      "metadata": {
        "id": "kNP74rf7S89c"
      },
      "source": [
        "supplies.tweet[1]"
      ],
      "execution_count": null,
      "outputs": []
    },
    {
      "cell_type": "code",
      "metadata": {
        "id": "Ud0dTJfWRsC6"
      },
      "source": [
        "auth = tweepy.OAuthHandler(consumer_key, consumer_secret)\r\n",
        "auth.set_access_token(access_token, access_token_secret)\r\n",
        "# will notify user on ratelimit and will wait by it self no need of sleep.\r\n",
        "api = tweepy.API(auth, wait_on_rate_limit=True, wait_on_rate_limit_notify=True)\r\n",
        "\r\n",
        "search_words = \"health insurance\"\r\n",
        "date_since = \"2018-01-01\"\r\n",
        "geoc=\"-1.28333,36.81667,300km\"\r\n",
        "\r\n",
        "# use the .Cursor method to get an object containing tweets containing the hashtag\r\n",
        "#use .Cursor() to search twitter for tweets containing the search term.\r\n",
        "#You can restrict the number of tweets returned by specifying a number in the .items() method.\r\n",
        "\r\n",
        "tweets = tweepy.Cursor(api.search,\r\n",
        "                       q=search_words,\r\n",
        "                       lang=\"en\",\r\n",
        "                       since=date_since, \r\n",
        "                       geocode=geoc).items(1000)\r\n",
        "\r\n",
        "[tweet.text for tweet in tweets]\r\n",
        "\r\n",
        "#Sometimes you may want to remove retweets as they contain duplicate content \r\n",
        "#that might skew your analysis if you are only looking at word frequency\r\n",
        "#below you ignore all retweets by adding -filter:retweets to your query\r\n",
        "\r\n",
        "new_search = search_words + \" -filter:retweets\" + \" -filter:links\"\r\n",
        "new_search\r\n",
        "\r\n",
        "tweets = tweepy.Cursor(api.search, \r\n",
        "                           q=new_search,\r\n",
        "                           lang=\"en\",\r\n",
        "                           since=date_since, geocode=geoc,\r\n",
        "                           tweet_mode= 'extended').items(1000)\r\n",
        "\r\n",
        "\r\n",
        "users_locs = [[tweet.user.screen_name,\r\n",
        "               tweet.full_text,\r\n",
        "               tweet.user.location,\r\n",
        "               tweet.user.description,\r\n",
        "               tweet.user.friends_count,\r\n",
        "               tweet.user.followers_count,\r\n",
        "               tweet.user.statuses_count,\r\n",
        "               tweet.created_at,\r\n",
        "               tweet.retweet_count,\r\n",
        "               tweet.favorite_count, \r\n",
        "               tweet.entities['hashtags']] for tweet in tweets]\r\n",
        "users_locs\r\n",
        "insurance = pd.DataFrame(data=users_locs, \r\n",
        "                    columns=['user', 'tweet',\"location\", 'description','friends_count','followers_count', \r\n",
        "                             'statuses_count', 'tweet_date', 'retweet_count','likes', 'hashtags'])\r\n",
        "insurance"
      ],
      "execution_count": null,
      "outputs": []
    },
    {
      "cell_type": "code",
      "metadata": {
        "id": "Y3m0ZlWh6kzg"
      },
      "source": [
        "# let us export our final dataframe to csv\r\n",
        "insurance.to_csv('insurance.csv')"
      ],
      "execution_count": null,
      "outputs": []
    },
    {
      "cell_type": "code",
      "metadata": {
        "id": "zhnZsagxS9A0"
      },
      "source": [
        "auth = tweepy.OAuthHandler(consumer_key, consumer_secret)\r\n",
        "auth.set_access_token(access_token, access_token_secret)\r\n",
        "# will notify user on ratelimit and will wait by it self no need of sleep.\r\n",
        "api = tweepy.API(auth, wait_on_rate_limit=True, wait_on_rate_limit_notify=True)\r\n",
        "\r\n",
        "search_words = \"MOH\"\r\n",
        "date_since = \"2018-01-01\"\r\n",
        "geoc=\"-1.28333,36.81667,300km\"\r\n",
        "\r\n",
        "# use the .Cursor method to get an object containing tweets containing the hashtag\r\n",
        "#use .Cursor() to search twitter for tweets containing the search term.\r\n",
        "#You can restrict the number of tweets returned by specifying a number in the .items() method.\r\n",
        "\r\n",
        "tweets = tweepy.Cursor(api.search,\r\n",
        "                       q=search_words,\r\n",
        "                       lang=\"en\",\r\n",
        "                       since=date_since, \r\n",
        "                       geocode=geoc).items(1000)\r\n",
        "\r\n",
        "[tweet.text for tweet in tweets]\r\n",
        "\r\n",
        "#Sometimes you may want to remove retweets as they contain duplicate content \r\n",
        "#that might skew your analysis if you are only looking at word frequency\r\n",
        "#below you ignore all retweets by adding -filter:retweets to your query\r\n",
        "\r\n",
        "new_search = search_words + \" -filter:retweets\" + \" -filter:links\"\r\n",
        "new_search\r\n",
        "\r\n",
        "tweets = tweepy.Cursor(api.search, \r\n",
        "                           q=new_search,\r\n",
        "                           lang=\"en\",\r\n",
        "                           since=date_since, geocode=geoc,\r\n",
        "                           tweet_mode= 'extended').items(1000)\r\n",
        "\r\n",
        "\r\n",
        "users_locs = [[tweet.user.screen_name,\r\n",
        "               tweet.full_text,\r\n",
        "               tweet.user.location,\r\n",
        "               tweet.user.description,\r\n",
        "               tweet.user.friends_count,\r\n",
        "               tweet.user.followers_count,\r\n",
        "               tweet.user.statuses_count,\r\n",
        "               tweet.created_at,\r\n",
        "               tweet.retweet_count,\r\n",
        "               tweet.favorite_count, \r\n",
        "               tweet.entities['hashtags']] for tweet in tweets]\r\n",
        "users_locs\r\n",
        "moh = pd.DataFrame(data=users_locs, \r\n",
        "                    columns=['user', 'tweet',\"location\", 'description','friends_count','followers_count', \r\n",
        "                             'statuses_count', 'tweet_date', 'retweet_count','likes', 'hashtags'])\r\n",
        "moh"
      ],
      "execution_count": null,
      "outputs": []
    },
    {
      "cell_type": "code",
      "metadata": {
        "id": "y6rYcKZaS9C9"
      },
      "source": [
        "# let us export our final dataframe to csv\r\n",
        "moh.to_csv('moh.csv')"
      ],
      "execution_count": null,
      "outputs": []
    },
    {
      "cell_type": "code",
      "metadata": {
        "id": "GwSACOWcTAYS"
      },
      "source": [
        "# bringing all datasets together\r\n",
        "import pandas as pd\r\n",
        "a = pd.read_excel('/content/chemist.xlsx')\r\n",
        "b = pd.read_excel('/content/chemist1.xlsx')\r\n",
        "c = pd.read_excel('/content/doctors.xlsx')\r\n",
        "d = pd.read_excel('/content/doctors1.xlsx')\r\n",
        "e = pd.read_excel('/content/hosi.xlsx')\r\n",
        "f = pd.read_excel('/content/hospital.xlsx')\r\n",
        "g = pd.read_excel('/content/hospital1.xlsx')\r\n",
        "h = pd.read_excel('/content/insurance.xlsx')\r\n",
        "i = pd.read_excel('/content/supplies.xlsx')"
      ],
      "execution_count": null,
      "outputs": []
    },
    {
      "cell_type": "code",
      "metadata": {
        "colab": {
          "base_uri": "https://localhost:8080/"
        },
        "id": "Pyd7xOYYd7xK",
        "outputId": "826902d3-f77d-4caf-872f-5b45bed7b81e"
      },
      "source": [
        "frames = [a, b, c, d, e, f, g, h, i]\r\n",
        "\r\n",
        "health_dataset = pd.concat(frames)\r\n",
        "health_dataset.shape"
      ],
      "execution_count": null,
      "outputs": [
        {
          "output_type": "execute_result",
          "data": {
            "text/plain": [
              "(4201, 13)"
            ]
          },
          "metadata": {
            "tags": []
          },
          "execution_count": 4
        }
      ]
    },
    {
      "cell_type": "code",
      "metadata": {
        "id": "4ixAyteReh0f"
      },
      "source": [
        "# let us export our final dataframe to csv\r\n",
        "health_dataset.to_csv('health_dataset.csv')"
      ],
      "execution_count": null,
      "outputs": []
    },
    {
      "cell_type": "code",
      "metadata": {
        "id": "NMKIs5IiVqFE"
      },
      "source": [
        "import pandas as pd\r\n",
        "k = pd.read_csv('/content/health_dataset - health_dataset.csv')"
      ],
      "execution_count": null,
      "outputs": []
    },
    {
      "cell_type": "code",
      "metadata": {
        "colab": {
          "base_uri": "https://localhost:8080/"
        },
        "id": "d19FIRldWaKj",
        "outputId": "66396059-5c39-40a9-c363-a764a3ad778e"
      },
      "source": [
        "k.duplicated().sum()"
      ],
      "execution_count": null,
      "outputs": [
        {
          "output_type": "execute_result",
          "data": {
            "text/plain": [
              "1"
            ]
          },
          "metadata": {
            "tags": []
          },
          "execution_count": 4
        }
      ]
    },
    {
      "cell_type": "code",
      "metadata": {
        "id": "IKVs5ZLXazq_"
      },
      "source": [
        "auth = tweepy.OAuthHandler(consumer_key, consumer_secret)\r\n",
        "auth.set_access_token(access_token, access_token_secret)\r\n",
        "# will notify user on ratelimit and will wait by it self no need of sleep.\r\n",
        "api = tweepy.API(auth, wait_on_rate_limit=True, wait_on_rate_limit_notify=True)\r\n",
        "\r\n",
        "search_words = \"@KenyaHealthFed OR @KenyaMedics_KMA OR @AAR_Healthcare\"\r\n",
        "date_since = \"2020-01-01\"\r\n",
        "geoc=\"-1.28333,36.81667,300km\"\r\n",
        "\r\n",
        "# use the .Cursor method to get an object containing tweets containing the hashtag\r\n",
        "#use .Cursor() to search twitter for tweets containing the search term.\r\n",
        "#You can restrict the number of tweets returned by specifying a number in the .items() method.\r\n",
        "\r\n",
        "tweets = tweepy.Cursor(api.search,\r\n",
        "                       q=search_words,\r\n",
        "                       lang=\"en\",\r\n",
        "                       since=date_since, \r\n",
        "                       geocode=geoc).items()\r\n",
        "\r\n",
        "[tweet.text for tweet in tweets]\r\n",
        "\r\n",
        "#Sometimes you may want to remove retweets as they contain duplicate content \r\n",
        "#that might skew your analysis if you are only looking at word frequency\r\n",
        "#below you ignore all retweets by adding -filter:retweets to your query\r\n",
        "\r\n",
        "new_search = search_words + \" -filter:retweets\" + \" -filter:links\"\r\n",
        "new_search\r\n",
        "\r\n",
        "tweets = tweepy.Cursor(api.search, \r\n",
        "                           q=new_search,\r\n",
        "                           lang=\"en\",\r\n",
        "                           since=date_since, geocode=geoc,\r\n",
        "                           tweet_mode= 'extended').items()\r\n",
        "\r\n",
        "\r\n",
        "users_locs = [[tweet.user.screen_name,\r\n",
        "               tweet.full_text,\r\n",
        "               tweet.user.location,\r\n",
        "               tweet.user.description,\r\n",
        "               tweet.user.friends_count,\r\n",
        "               tweet.user.followers_count,\r\n",
        "               tweet.user.statuses_count,\r\n",
        "               tweet.created_at,\r\n",
        "               tweet.retweet_count,\r\n",
        "               tweet.favorite_count, \r\n",
        "               tweet.entities['hashtags']] for tweet in tweets]\r\n",
        "users_locs\r\n",
        "chemist = pd.DataFrame(data=users_locs, \r\n",
        "                    columns=['user', 'tweet',\"location\", 'description','friends_count','followers_count', \r\n",
        "                             'statuses_count', 'tweet_date', 'retweet_count','likes', 'hashtags'])\r\n",
        "chemist"
      ],
      "execution_count": null,
      "outputs": []
    }
  ]
}